{
 "cells": [
  {
   "cell_type": "code",
   "execution_count": 82,
   "metadata": {},
   "outputs": [],
   "source": [
    "#| default_exp core"
   ]
  },
  {
   "cell_type": "markdown",
   "metadata": {},
   "source": [
    "# core\n",
    "\n",
    "> The core module: a simple module with the main class - cool maybe you should look at `say_hello`"
   ]
  },
  {
   "cell_type": "code",
   "execution_count": 83,
   "metadata": {},
   "outputs": [],
   "source": [
    "#| hide\n",
    "from nbdev.showdoc import *"
   ]
  },
  {
   "cell_type": "code",
   "execution_count": 104,
   "metadata": {},
   "outputs": [],
   "source": [
    "#| export\n",
    "from math import fmod"
   ]
  },
  {
   "cell_type": "code",
   "execution_count": 105,
   "metadata": {},
   "outputs": [],
   "source": [
    "#| hide\n",
    "from fastcore.test import *\n",
    "from fastcore.utils import * # this gives me the @patch decorator"
   ]
  },
  {
   "cell_type": "code",
   "execution_count": 86,
   "metadata": {},
   "outputs": [],
   "source": [
    "#| export\n",
    "def foo(): pass"
   ]
  },
  {
   "cell_type": "code",
   "execution_count": 87,
   "metadata": {},
   "outputs": [],
   "source": [
    "#| export\n",
    "def go(): pass"
   ]
  },
  {
   "cell_type": "code",
   "execution_count": 88,
   "metadata": {},
   "outputs": [],
   "source": [
    "#| export\n",
    "def another():\n",
    "    return \"okk\""
   ]
  },
  {
   "cell_type": "code",
   "execution_count": 89,
   "metadata": {},
   "outputs": [],
   "source": [
    "#| export\n",
    "def again(): pass"
   ]
  },
  {
   "cell_type": "code",
   "execution_count": 113,
   "metadata": {},
   "outputs": [],
   "source": [
    "#| export\n",
    "def say_hello(to):\n",
    "    \"Say hello to `to` somebody\"\n",
    "    return f'Hello {to}!'"
   ]
  },
  {
   "cell_type": "code",
   "execution_count": 91,
   "metadata": {},
   "outputs": [],
   "source": [
    "assert say_hello(\"Isaac\")==\"Hello Isaac!\""
   ]
  },
  {
   "cell_type": "code",
   "execution_count": 92,
   "metadata": {},
   "outputs": [],
   "source": [
    "test_eq(say_hello(\"Hamel\"), \"Hello Hamel!\")"
   ]
  },
  {
   "cell_type": "code",
   "execution_count": 108,
   "metadata": {},
   "outputs": [],
   "source": [
    "#| export\n",
    "class HDRandom:\n",
    "    \"\"\"\n",
    "    HDR Random Number Generator, based on https://www.probabilitymanagement.org/hdr\n",
    "    \"\"\"\n",
    "    def __init__(self, \n",
    "                 entity: int, # entity integer seed (assigned or should be 0) \n",
    "                 varId: int,  # varId integer seed\n",
    "                 seed3: int,  # seed3 integer seed\n",
    "                 seed4: int): # seed4 integer seed\n",
    "        self.entity = entity\n",
    "        self.varId =  varId\n",
    "        self.seed3 =  seed3\n",
    "        self.seed4 =  seed4\n",
    "        \n",
    "    def generate(self, \n",
    "                 counter: int # a counter value \n",
    "                )-> float:\n",
    "        \"\"\"\n",
    "        Generates a random number for this counter value\n",
    "        \"\"\"\n",
    "        return (fmod((fmod(fmod(999999999999989,fmod(counter*2499997 + (self.varId)*1800451 + (self.entity)*2000371 + (self.seed3)*1796777 + (self.seed4)*2299603, 7450589 ) * 4658 + 7450581 ) * 383, 99991 ) * 7440893 + fmod( fmod( 999999999999989, fmod( counter*2246527 + (self.varId)*2399993 + (self.entity)*2100869 + (self.seed3)*1918303 + (self.seed4)*1624729, 7450987 ) * 7580 + 7560584 ) * 17669, 7440893 )) * 1343, 4294967296 ) + 0.5 ) / 4294967296\n",
    "    \n",
    "    def alternate(self):\n",
    "        \"\"\"\n",
    "        does the same as `generate`\n",
    "        \"\"\"\n",
    "        print(\"ok\")\n",
    "    \n",
    "    \n",
    "    def __str__(self):\n",
    "        return f\"Random Number Generator entity={self.entity} varId={self.varId} seed3={self.seed3} seed4{self.seed4}\"\n",
    "    \n",
    "    __repr__ = __str__"
   ]
  },
  {
   "cell_type": "code",
   "execution_count": 111,
   "metadata": {},
   "outputs": [
    {
     "data": {
      "text/markdown": [
       "---\n",
       "\n",
       "### HDRandom.generate\n",
       "\n",
       ">      HDRandom.generate (counter:int)\n",
       "\n",
       "Generates a random number for this counter value\n",
       "\n",
       "|    | **Type** | **Details** |\n",
       "| -- | -------- | ----------- |\n",
       "| counter | int | a counter value |\n",
       "| **Returns** | **float** |  |"
      ],
      "text/plain": [
       "---\n",
       "\n",
       "### HDRandom.generate\n",
       "\n",
       ">      HDRandom.generate (counter:int)\n",
       "\n",
       "Generates a random number for this counter value\n",
       "\n",
       "|    | **Type** | **Details** |\n",
       "| -- | -------- | ----------- |\n",
       "| counter | int | a counter value |\n",
       "| **Returns** | **float** |  |"
      ]
     },
     "execution_count": 111,
     "metadata": {},
     "output_type": "execute_result"
    }
   ],
   "source": [
    "show_doc(HDRandom.generate)"
   ]
  },
  {
   "cell_type": "code",
   "execution_count": 112,
   "metadata": {},
   "outputs": [
    {
     "data": {
      "text/markdown": [
       "---\n",
       "\n",
       "### HDRandom.alternate\n",
       "\n",
       ">      HDRandom.alternate ()\n",
       "\n",
       "does the same as `generate`"
      ],
      "text/plain": [
       "---\n",
       "\n",
       "### HDRandom.alternate\n",
       "\n",
       ">      HDRandom.alternate ()\n",
       "\n",
       "does the same as `generate`"
      ]
     },
     "execution_count": 112,
     "metadata": {},
     "output_type": "execute_result"
    }
   ],
   "source": [
    "show_doc(HDRandom.alternate)"
   ]
  },
  {
   "cell_type": "markdown",
   "metadata": {},
   "source": [
    "Showing here how to add a method outside of a Class as a temporary patch:"
   ]
  },
  {
   "cell_type": "code",
   "execution_count": 94,
   "metadata": {},
   "outputs": [],
   "source": [
    "@patch\n",
    "def __eq__(self:HDRandom, a:HDRandom): return ((self.entity==a.entity) and (self.varId==a.varId) and (self.seed3==a.seed3) and (self.seed4==a.seed4))"
   ]
  },
  {
   "cell_type": "code",
   "execution_count": 95,
   "metadata": {},
   "outputs": [],
   "source": [
    "x = HDRandom(entity=10, varId=2, seed3=3, seed4=4)\n",
    "test_eq(x.generate(counter=1),0.18532938009593636)\n",
    "test_eq(x,x)"
   ]
  },
  {
   "cell_type": "code",
   "execution_count": 96,
   "metadata": {},
   "outputs": [],
   "source": [
    "#| export\n",
    "def minetest(): pass"
   ]
  },
  {
   "cell_type": "code",
   "execution_count": 97,
   "metadata": {},
   "outputs": [
    {
     "data": {
      "text/markdown": [
       "---\n",
       "\n",
       "### HDRandom\n",
       "\n",
       ">      HDRandom (entity:int, varId:int, seed3:int, seed4:int)\n",
       "\n",
       "HDR Random Number Generator, based on https://www.probabilitymanagement.org/hdr\n",
       "\n",
       "|    | **Type** | **Details** |\n",
       "| -- | -------- | ----------- |\n",
       "| entity | int | entity integer seed (assigned or should be 0) |\n",
       "| varId | int | varId integer seed |\n",
       "| seed3 | int | seed3 integer seed |\n",
       "| seed4 | int | seed4 integer seed |"
      ],
      "text/plain": [
       "---\n",
       "\n",
       "### HDRandom\n",
       "\n",
       ">      HDRandom (entity:int, varId:int, seed3:int, seed4:int)\n",
       "\n",
       "HDR Random Number Generator, based on https://www.probabilitymanagement.org/hdr\n",
       "\n",
       "|    | **Type** | **Details** |\n",
       "| -- | -------- | ----------- |\n",
       "| entity | int | entity integer seed (assigned or should be 0) |\n",
       "| varId | int | varId integer seed |\n",
       "| seed3 | int | seed3 integer seed |\n",
       "| seed4 | int | seed4 integer seed |"
      ]
     },
     "execution_count": 97,
     "metadata": {},
     "output_type": "execute_result"
    }
   ],
   "source": [
    "show_doc(HDRandom)"
   ]
  },
  {
   "cell_type": "code",
   "execution_count": 109,
   "metadata": {},
   "outputs": [],
   "source": [
    "#| hide\n",
    "import nbdev; nbdev.nbdev_export()"
   ]
  }
 ],
 "metadata": {
  "kernelspec": {
   "display_name": "Python 3 (ipykernel)",
   "language": "python",
   "name": "python3"
  },
  "language_info": {
   "codemirror_mode": {
    "name": "ipython",
    "version": 3
   },
   "file_extension": ".py",
   "mimetype": "text/x-python",
   "name": "python",
   "nbconvert_exporter": "python",
   "pygments_lexer": "ipython3",
   "version": "3.8.6"
  }
 },
 "nbformat": 4,
 "nbformat_minor": 4
}
