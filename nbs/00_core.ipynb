{
 "cells": [
  {
   "cell_type": "markdown",
   "metadata": {},
   "source": [
    "# core\n",
    "\n",
    "> The core module"
   ]
  },
  {
   "cell_type": "code",
   "execution_count": null,
   "metadata": {},
   "outputs": [],
   "source": [
    "#| default_exp core"
   ]
  },
  {
   "cell_type": "code",
   "execution_count": null,
   "metadata": {},
   "outputs": [],
   "source": [
    "#| hide\n",
    "from nbdev.showdoc import *"
   ]
  },
  {
   "cell_type": "code",
   "execution_count": null,
   "metadata": {},
   "outputs": [],
   "source": [
    "from math import fmod\n",
    "from fastcore.test import *"
   ]
  },
  {
   "cell_type": "code",
   "execution_count": null,
   "metadata": {},
   "outputs": [],
   "source": [
    "#| export\n",
    "def foo(): pass"
   ]
  },
  {
   "cell_type": "code",
   "execution_count": null,
   "metadata": {},
   "outputs": [],
   "source": [
    "#| export\n",
    "def go(): pass"
   ]
  },
  {
   "cell_type": "code",
   "execution_count": null,
   "metadata": {},
   "outputs": [],
   "source": [
    "#| export\n",
    "def again(): pass"
   ]
  },
  {
   "cell_type": "code",
   "execution_count": null,
   "metadata": {},
   "outputs": [],
   "source": [
    "#| export\n",
    "def say_hello(to):\n",
    "    \"Say hello to somebody\"\n",
    "    return f'Hello {to}!'"
   ]
  },
  {
   "cell_type": "code",
   "execution_count": null,
   "metadata": {},
   "outputs": [],
   "source": [
    "assert say_hello(\"Isaac\")==\"Hello Isaac!\""
   ]
  },
  {
   "cell_type": "code",
   "execution_count": null,
   "metadata": {},
   "outputs": [],
   "source": [
    "test_eq(say_hello(\"Hamel\"), \"Hello Hamel!\")"
   ]
  },
  {
   "cell_type": "code",
   "execution_count": null,
   "metadata": {},
   "outputs": [],
   "source": [
    "class HDRandom:\n",
    "    \"\"\"\n",
    "    HDR Random Number Generator, based on https://www.probabilitymanagement.org/hdr\n",
    "    \"\"\"\n",
    "    def __init__(self, *, entity: int, varId: int, seed3: int, seed4: int):\n",
    "        self.entity = entity\n",
    "        self.varId =  varId\n",
    "        self.seed3 =  seed3\n",
    "        self.seed4 =  seed4\n",
    "        \n",
    "    def generate(self, *, counter: int) -> float:\n",
    "        \"\"\"\n",
    "        Generates a random number for this counter value\n",
    "        \"\"\"\n",
    "        return (fmod((fmod(fmod(999999999999989,fmod(counter*2499997 + (self.varId)*1800451 + (self.entity)*2000371 + (self.seed3)*1796777 + (self.seed4)*2299603, 7450589 ) * 4658 + 7450581 ) * 383, 99991 ) * 7440893 + fmod( fmod( 999999999999989, fmod( counter*2246527 + (self.varId)*2399993 + (self.entity)*2100869 + (self.seed3)*1918303 + (self.seed4)*1624729, 7450987 ) * 7580 + 7560584 ) * 17669, 7440893 )) * 1343, 4294967296 ) + 0.5 ) / 4294967296"
   ]
  },
  {
   "cell_type": "code",
   "execution_count": null,
   "metadata": {},
   "outputs": [
    {
     "name": "stdout",
     "output_type": "stream",
     "text": [
      "0.18532938009593636\n",
      "0.9937039703363553\n",
      "0.09836426738183945\n",
      "0.7941507144132629\n",
      "0.7279702170053497\n",
      "0.03101965703535825\n",
      "0.41562155552674085\n",
      "0.06352685287129134\n",
      "0.8691775795305148\n"
     ]
    }
   ],
   "source": [
    "x = HDRandom(entity=10, varId=2, seed3=3, seed4=4)\n",
    "for c in range(1,10):\n",
    "    print(x.generate(counter=c))"
   ]
  },
  {
   "cell_type": "code",
   "execution_count": null,
   "metadata": {},
   "outputs": [],
   "source": [
    "#| hide\n",
    "import nbdev; nbdev.nbdev_export()"
   ]
  }
 ],
 "metadata": {
  "kernelspec": {
   "display_name": "Python 3 (ipykernel)",
   "language": "python",
   "name": "python3"
  }
 },
 "nbformat": 4,
 "nbformat_minor": 4
}
