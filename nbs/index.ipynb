{
 "cells": [
  {
   "cell_type": "code",
   "execution_count": null,
   "metadata": {},
   "outputs": [],
   "source": [
    "%load_ext autoreload"
   ]
  },
  {
   "cell_type": "code",
   "execution_count": null,
   "metadata": {},
   "outputs": [],
   "source": [
    "%autoreload 2"
   ]
  },
  {
   "cell_type": "code",
   "execution_count": null,
   "metadata": {},
   "outputs": [],
   "source": [
    "#| hide\n",
    "from hdr_random.core import *"
   ]
  },
  {
   "cell_type": "markdown",
   "metadata": {},
   "source": [
    "# hdr-random\n",
    "\n",
    "> HDR Random is a library to generate HDR random numbers."
   ]
  },
  {
   "cell_type": "markdown",
   "metadata": {},
   "source": [
    "A library based on [Probably Management](https://www.probabilitymanagement.org/hdr).\n",
    "\n",
    "See the initial work from Doug Hubbard: [A MULTI-DIMENSIONAL, COUNTER-BASED PSEUDO RANDOM NUMBER GENERATOR\n",
    "AS A STANDARD FOR MONTE CARLO SIMULATIONS](https://www.informs-sim.org/wsc19papers/339.pdf)"
   ]
  },
  {
   "cell_type": "markdown",
   "metadata": {},
   "source": [
    "## Install"
   ]
  },
  {
   "cell_type": "markdown",
   "metadata": {},
   "source": [
    "```sh\n",
    "pip install hdr_random\n",
    "```"
   ]
  },
  {
   "cell_type": "markdown",
   "metadata": {},
   "source": [
    "## How to use"
   ]
  },
  {
   "cell_type": "markdown",
   "metadata": {},
   "source": [
    "Here is the way to generate a sequence of 10 random numbers: see the class `HDRandom`"
   ]
  },
  {
   "cell_type": "code",
   "execution_count": null,
   "metadata": {},
   "outputs": [
    {
     "name": "stdout",
     "output_type": "stream",
     "text": [
      "0.18532938009593636\n",
      "0.9937039703363553\n",
      "0.09836426738183945\n",
      "0.7941507144132629\n",
      "0.7279702170053497\n",
      "0.03101965703535825\n",
      "0.41562155552674085\n",
      "0.06352685287129134\n",
      "0.8691775795305148\n"
     ]
    }
   ],
   "source": [
    "x = HDRandom(entity=10, varId=2, seed3=3, seed4=4)\n",
    "for c in range(1,10):\n",
    "    print(x.generate(c))"
   ]
  }
 ],
 "metadata": {
  "kernelspec": {
   "display_name": "Python 3 (ipykernel)",
   "language": "python",
   "name": "python3"
  }
 },
 "nbformat": 4,
 "nbformat_minor": 4
}
